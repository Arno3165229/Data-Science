{
 "cells": [
  {
   "cell_type": "code",
   "execution_count": 1,
   "metadata": {},
   "outputs": [],
   "source": [
    "# 檔案說明：\n",
    "# 請將train.csv以及test.csv放在同一個資料夾中，此檔案可以直接 Run All，將輸出一個名為\"test_predictions.csv\"的檔案，為上傳至競賽網站之檔案\n",
    "# 但由於當中我們有做train data的shuffle，每次訓練出的model及結果會有些許差異，不完全跟網路上最好結果的檔案一樣"
   ]
  },
  {
   "cell_type": "code",
   "execution_count": 2,
   "metadata": {},
   "outputs": [],
   "source": [
    "import numpy as np # linear algebra\n",
    "import pandas as pd # data processing, CSV file I/O (e.g. pd.read_csv)\n",
    "import os"
   ]
  },
  {
   "cell_type": "code",
   "execution_count": 3,
   "metadata": {},
   "outputs": [],
   "source": [
    "train  = pd.read_csv(\"train.csv\")\n",
    "test = pd.read_csv(\"test.csv\")\n",
    "upload = pd.read_csv(\"sample_upload.csv\")"
   ]
  },
  {
   "cell_type": "code",
   "execution_count": 4,
   "metadata": {},
   "outputs": [],
   "source": [
    "train['class'] = train['class'].astype('category')"
   ]
  },
  {
   "cell_type": "code",
   "execution_count": 5,
   "metadata": {},
   "outputs": [
    {
     "name": "stdout",
     "output_type": "stream",
     "text": [
      "<class 'pandas.core.frame.DataFrame'>\n",
      "RangeIndex: 14869 entries, 0 to 14868\n",
      "Data columns (total 2 columns):\n",
      "class    14869 non-null category\n",
      "tweet    14869 non-null object\n",
      "dtypes: category(1), object(1)\n",
      "memory usage: 130.9+ KB\n"
     ]
    }
   ],
   "source": [
    "train.info()"
   ]
  },
  {
   "cell_type": "code",
   "execution_count": 6,
   "metadata": {},
   "outputs": [],
   "source": [
    "from nltk.stem import WordNetLemmatizer\n",
    "from sklearn.feature_extraction.text import TfidfVectorizer\n",
    "import re"
   ]
  },
  {
   "cell_type": "code",
   "execution_count": 7,
   "metadata": {},
   "outputs": [],
   "source": [
    "train['text_lem'] = [''.join([WordNetLemmatizer().lemmatize(re.sub('[^A-Za-z]',' ',text)) for text in lis]) for lis in train['tweet']]\n",
    "test['text_lem'] = [''.join([WordNetLemmatizer().lemmatize(re.sub('[^A-Za-z]',' ',text)) for text in lis]) for lis in test['tweet']]"
   ]
  },
  {
   "cell_type": "code",
   "execution_count": 8,
   "metadata": {},
   "outputs": [
    {
     "data": {
      "text/html": [
       "<div>\n",
       "<style scoped>\n",
       "    .dataframe tbody tr th:only-of-type {\n",
       "        vertical-align: middle;\n",
       "    }\n",
       "\n",
       "    .dataframe tbody tr th {\n",
       "        vertical-align: top;\n",
       "    }\n",
       "\n",
       "    .dataframe thead th {\n",
       "        text-align: right;\n",
       "    }\n",
       "</style>\n",
       "<table border=\"1\" class=\"dataframe\">\n",
       "  <thead>\n",
       "    <tr style=\"text-align: right;\">\n",
       "      <th></th>\n",
       "      <th>class</th>\n",
       "      <th>tweet</th>\n",
       "      <th>text_lem</th>\n",
       "    </tr>\n",
       "  </thead>\n",
       "  <tbody>\n",
       "    <tr>\n",
       "      <th>0</th>\n",
       "      <td>1</td>\n",
       "      <td>[9-1-13] 2:50 pm \"son of a bitch ate my mac n ...</td>\n",
       "      <td>pm  son of a bitch ate my mac n ...</td>\n",
       "    </tr>\n",
       "    <tr>\n",
       "      <th>1</th>\n",
       "      <td>1</td>\n",
       "      <td>RT @BryceSerna: Don't be a pussy grab the boot...</td>\n",
       "      <td>RT  BryceSerna  Don t be a pussy grab the boot...</td>\n",
       "    </tr>\n",
       "    <tr>\n",
       "      <th>2</th>\n",
       "      <td>2</td>\n",
       "      <td>RT @ClicquotSuave: bunch of rappers boutta flo...</td>\n",
       "      <td>RT  ClicquotSuave  bunch of rappers boutta flo...</td>\n",
       "    </tr>\n",
       "    <tr>\n",
       "      <th>3</th>\n",
       "      <td>2</td>\n",
       "      <td>@michigannews13 wow. Thats great language comi...</td>\n",
       "      <td>michigannews   wow  Thats great language comi...</td>\n",
       "    </tr>\n",
       "    <tr>\n",
       "      <th>4</th>\n",
       "      <td>1</td>\n",
       "      <td>and this is why I'm single, I don't fuck with ...</td>\n",
       "      <td>and this is why I m single  I don t fuck with ...</td>\n",
       "    </tr>\n",
       "  </tbody>\n",
       "</table>\n",
       "</div>"
      ],
      "text/plain": [
       "  class                                              tweet  \\\n",
       "0     1  [9-1-13] 2:50 pm \"son of a bitch ate my mac n ...   \n",
       "1     1  RT @BryceSerna: Don't be a pussy grab the boot...   \n",
       "2     2  RT @ClicquotSuave: bunch of rappers boutta flo...   \n",
       "3     2  @michigannews13 wow. Thats great language comi...   \n",
       "4     1  and this is why I'm single, I don't fuck with ...   \n",
       "\n",
       "                                            text_lem  \n",
       "0                pm  son of a bitch ate my mac n ...  \n",
       "1  RT  BryceSerna  Don t be a pussy grab the boot...  \n",
       "2  RT  ClicquotSuave  bunch of rappers boutta flo...  \n",
       "3   michigannews   wow  Thats great language comi...  \n",
       "4  and this is why I m single  I don t fuck with ...  "
      ]
     },
     "execution_count": 8,
     "metadata": {},
     "output_type": "execute_result"
    }
   ],
   "source": [
    "train.head()"
   ]
  },
  {
   "cell_type": "code",
   "execution_count": 9,
   "metadata": {},
   "outputs": [
    {
     "data": {
      "text/html": [
       "<div>\n",
       "<style scoped>\n",
       "    .dataframe tbody tr th:only-of-type {\n",
       "        vertical-align: middle;\n",
       "    }\n",
       "\n",
       "    .dataframe tbody tr th {\n",
       "        vertical-align: top;\n",
       "    }\n",
       "\n",
       "    .dataframe thead th {\n",
       "        text-align: right;\n",
       "    }\n",
       "</style>\n",
       "<table border=\"1\" class=\"dataframe\">\n",
       "  <thead>\n",
       "    <tr style=\"text-align: right;\">\n",
       "      <th></th>\n",
       "      <th>id</th>\n",
       "      <th>tweet</th>\n",
       "      <th>text_lem</th>\n",
       "    </tr>\n",
       "  </thead>\n",
       "  <tbody>\n",
       "    <tr>\n",
       "      <th>0</th>\n",
       "      <td>0</td>\n",
       "      <td>!!!!!!! RT @UrKindOfBrand Dawg!!!! RT @80sbaby...</td>\n",
       "      <td>RT  UrKindOfBrand Dawg     RT    sbaby...</td>\n",
       "    </tr>\n",
       "    <tr>\n",
       "      <th>1</th>\n",
       "      <td>1</td>\n",
       "      <td>!!!!!!!!! RT @C_G_Anderson: @viva_based she lo...</td>\n",
       "      <td>RT  C G Anderson   viva based she lo...</td>\n",
       "    </tr>\n",
       "    <tr>\n",
       "      <th>2</th>\n",
       "      <td>2</td>\n",
       "      <td>!!!!!!\"@__BrighterDays: I can not just sit up ...</td>\n",
       "      <td>BrighterDays  I can not just sit up ...</td>\n",
       "    </tr>\n",
       "    <tr>\n",
       "      <th>3</th>\n",
       "      <td>3</td>\n",
       "      <td>!!!!&amp;#8220;@selfiequeenbri: cause I'm tired of...</td>\n",
       "      <td>selfiequeenbri  cause I m tired of...</td>\n",
       "    </tr>\n",
       "    <tr>\n",
       "      <th>4</th>\n",
       "      <td>4</td>\n",
       "      <td>\" @rhythmixx_ :hobbies include: fighting Maria...</td>\n",
       "      <td>rhythmixx   hobbies include  fighting Maria...</td>\n",
       "    </tr>\n",
       "  </tbody>\n",
       "</table>\n",
       "</div>"
      ],
      "text/plain": [
       "   id                                              tweet  \\\n",
       "0   0  !!!!!!! RT @UrKindOfBrand Dawg!!!! RT @80sbaby...   \n",
       "1   1  !!!!!!!!! RT @C_G_Anderson: @viva_based she lo...   \n",
       "2   2  !!!!!!\"@__BrighterDays: I can not just sit up ...   \n",
       "3   3  !!!!&#8220;@selfiequeenbri: cause I'm tired of...   \n",
       "4   4  \" @rhythmixx_ :hobbies include: fighting Maria...   \n",
       "\n",
       "                                            text_lem  \n",
       "0          RT  UrKindOfBrand Dawg     RT    sbaby...  \n",
       "1            RT  C G Anderson   viva based she lo...  \n",
       "2            BrighterDays  I can not just sit up ...  \n",
       "3              selfiequeenbri  cause I m tired of...  \n",
       "4     rhythmixx   hobbies include  fighting Maria...  "
      ]
     },
     "execution_count": 9,
     "metadata": {},
     "output_type": "execute_result"
    }
   ],
   "source": [
    "test.head()"
   ]
  },
  {
   "cell_type": "code",
   "execution_count": 10,
   "metadata": {},
   "outputs": [],
   "source": [
    "from sklearn.linear_model import LogisticRegression"
   ]
  },
  {
   "cell_type": "code",
   "execution_count": 11,
   "metadata": {},
   "outputs": [],
   "source": [
    "vect = TfidfVectorizer(ngram_range = (1,4)).fit(train['text_lem'])\n",
    "vect_transformed_train = vect.transform(train['text_lem'])\n",
    "vect_transformed_test = vect.transform(test['text_lem'])"
   ]
  },
  {
   "cell_type": "code",
   "execution_count": 12,
   "metadata": {},
   "outputs": [
    {
     "name": "stdout",
     "output_type": "stream",
     "text": [
      "0.999663729907862\n",
      "{'C': 0.1, 'penalty': 'l1'}\n"
     ]
    }
   ],
   "source": [
    "# Ensemble Learning\n",
    "train_class0=train[train['class']==0]\n",
    "train_class1=train[train['class']==1]\n",
    "train_class2=train[train['class']==2]\n",
    "\n",
    "from sklearn.utils import shuffle\n",
    "train_class1 = shuffle(train_class1)\n",
    "\n",
    "train_class1_1=train_class1.iloc[0:2800,:]\n",
    "train_class1_2=train_class1.iloc[2801:5600,:]\n",
    "train_class1_3=train_class1.iloc[5601:8400,:]\n",
    "train_class1_4=train_class1.iloc[8401:11491,:]\n",
    "\n",
    "train1=pd.concat([train_class0,train_class2,train_class1_1],axis=0)\n",
    "train2=pd.concat([train_class0,train_class2,train_class1_2],axis=0)\n",
    "train3=pd.concat([train_class0,train_class2,train_class1_3],axis=0)\n",
    "train4=pd.concat([train_class0,train_class2,train_class1_4],axis=0)\n",
    "\n",
    "vect_transformed_train1 = vect.transform(train1['text_lem'])\n",
    "FinalModel = LogisticRegression(C=250).fit(vect_transformed_train1,train1['class'])\n",
    "predictions1 = FinalModel.predict_proba(vect_transformed_test)\n",
    "predictions1_train = FinalModel.predict_proba(vect_transformed_train)\n",
    "vect_transformed_train2 = vect.transform(train2['text_lem'])\n",
    "FinalModel = LogisticRegression(C=250).fit(vect_transformed_train2,train2['class'])\n",
    "predictions2 = FinalModel.predict_proba(vect_transformed_test)\n",
    "predictions2_train = FinalModel.predict_proba(vect_transformed_train)\n",
    "vect_transformed_train3 = vect.transform(train3['text_lem'])\n",
    "FinalModel = LogisticRegression(C=250).fit(vect_transformed_train3,train3['class'])\n",
    "predictions3 = FinalModel.predict_proba(vect_transformed_test)\n",
    "predictions3_train = FinalModel.predict_proba(vect_transformed_train)\n",
    "vect_transformed_train4 = vect.transform(train4['text_lem'])\n",
    "FinalModel = LogisticRegression(C=250).fit(vect_transformed_train4,train4['class'])\n",
    "predictions4 = FinalModel.predict_proba(vect_transformed_test)\n",
    "predictions4_train = FinalModel.predict_proba(vect_transformed_train)\n",
    "\n",
    "predictions_analysis_train=np.concatenate((predictions1_train,predictions2_train,predictions3_train,predictions4_train),axis=1)\n",
    "\n",
    "\n",
    "predictions_analysis=np.concatenate((predictions1,predictions2,predictions3,predictions4),axis=1)\n",
    "\n",
    "from sklearn.model_selection import GridSearchCV\n",
    "parameters = {\n",
    "    'penalty': ('l1', 'l2'),\n",
    "    'C': (0.1, 1, 10)\n",
    "}\n",
    "LR = LogisticRegression()\n",
    "FinalModel=GridSearchCV(LR, parameters, cv=5)\n",
    "FinalModel.fit(predictions_analysis_train,train['class'])\n",
    "print(FinalModel.best_score_)\n",
    "print(FinalModel.best_params_)\n",
    "\n",
    "predictions = FinalModel.predict(predictions_analysis)"
   ]
  },
  {
   "cell_type": "code",
   "execution_count": 13,
   "metadata": {},
   "outputs": [],
   "source": [
    "submission = pd.DataFrame({'id':test['id'],'class':predictions})"
   ]
  },
  {
   "cell_type": "code",
   "execution_count": 14,
   "metadata": {},
   "outputs": [],
   "source": [
    "file_name = 'test_predictions.csv'\n",
    "submission.to_csv(file_name,index=False)"
   ]
  }
 ],
 "metadata": {
  "kernelspec": {
   "display_name": "Python 3",
   "language": "python",
   "name": "python3"
  },
  "language_info": {
   "codemirror_mode": {
    "name": "ipython",
    "version": 3
   },
   "file_extension": ".py",
   "mimetype": "text/x-python",
   "name": "python",
   "nbconvert_exporter": "python",
   "pygments_lexer": "ipython3",
   "version": "3.6.5"
  }
 },
 "nbformat": 4,
 "nbformat_minor": 2
}
