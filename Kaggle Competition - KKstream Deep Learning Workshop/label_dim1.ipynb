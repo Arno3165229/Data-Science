{
 "cells": [
  {
   "cell_type": "code",
   "execution_count": 1,
   "metadata": {},
   "outputs": [],
   "source": [
    "import numpy as np\n",
    "import random\n",
    "from sklearn.neural_network import MLPClassifier"
   ]
  },
  {
   "cell_type": "code",
   "execution_count": 2,
   "metadata": {},
   "outputs": [],
   "source": [
    "def split_train_val_id(n, val_percent=0.1):\n",
    "    ids = [i for i in range(n)]\n",
    "    random.shuffle(ids)\n",
    "    piv = int(n*val_percent)\n",
    "    if piv==0: \n",
    "        piv=1\n",
    "    return {'train': ids[:-piv], 'val': ids[-piv:]}"
   ]
  },
  {
   "cell_type": "code",
   "execution_count": 3,
   "metadata": {},
   "outputs": [],
   "source": [
    "datas = np.load('train_features.npy')\n",
    "labels = np.load('train_labels.npy')"
   ]
  },
  {
   "cell_type": "code",
   "execution_count": 16,
   "metadata": {},
   "outputs": [],
   "source": [
    "NUM_DATA = 5000\n",
    "INPUT_DIM_1D = datas.shape[1]*datas.shape[2]\n",
    "OUTPUT_DIM = labels.shape[1]-1\n",
    "val_percent = 0.2\n",
    "\n",
    "train_val_id = split_train_val_id(NUM_DATA, val_percent)\n",
    "train_id = train_val_id['train']\n",
    "val_id = train_val_id['val']\n",
    "\n",
    "train_datas = np.zeros((len(train_id), INPUT_DIM_1D))\n",
    "train_labels = np.zeros((len(train_id), OUTPUT_DIM))\n",
    "for i, idx in enumerate(train_id):\n",
    "    train_datas[i] = datas[idx].reshape(INPUT_DIM_1D)\n",
    "    train_labels[i] = labels[idx][1:]\n",
    "    \n",
    "#reduce data information\n",
    "train_datas = train_datas[:, :10000]\n",
    "#more than n time slots == 1, predict 1\n",
    "labels_onehot = np.zeros(len(train_id))\n",
    "for i in range(len(train_id)):\n",
    "    if train_labels[i].sum()>=3:\n",
    "        labels_onehot[i] = 1"
   ]
  },
  {
   "cell_type": "code",
   "execution_count": 17,
   "metadata": {},
   "outputs": [
    {
     "data": {
      "text/plain": [
       "MLPClassifier(activation='relu', alpha=0.0001, batch_size=64, beta_1=0.9,\n",
       "              beta_2=0.999, early_stopping=False, epsilon=1e-08,\n",
       "              hidden_layer_sizes=(64, 32), learning_rate='constant',\n",
       "              learning_rate_init=0.001, max_iter=200, momentum=0.9,\n",
       "              n_iter_no_change=10, nesterovs_momentum=True, power_t=0.5,\n",
       "              random_state=None, shuffle=True, solver='adam', tol=0.0001,\n",
       "              validation_fraction=0.1, verbose=False, warm_start=False)"
      ]
     },
     "execution_count": 17,
     "metadata": {},
     "output_type": "execute_result"
    }
   ],
   "source": [
    "_solver = 'adam'\n",
    "_activation = 'relu'\n",
    "_alpha = 1e-4\n",
    "_hidden_layer = (64, 32)\n",
    "_lr_rate = 0.001\n",
    "_batch = 64\n",
    "_max_iter = 200\n",
    "\n",
    "mlp = MLPClassifier(solver=_solver, activation=_activation, alpha=_alpha, hidden_layer_sizes=_hidden_layer,\\\n",
    "                    batch_size=_batch, learning_rate_init=_lr_rate, max_iter=_max_iter)\n",
    "mlp.fit(train_datas, labels_onehot)\n"
   ]
  },
  {
   "cell_type": "code",
   "execution_count": 7,
   "metadata": {},
   "outputs": [],
   "source": [
    "from sklearn.metrics import classification_report"
   ]
  },
  {
   "cell_type": "code",
   "execution_count": 14,
   "metadata": {},
   "outputs": [],
   "source": [
    "NUM_OF_VAL = len(val_id)\n",
    "val_datas = np.zeros((NUM_OF_VAL, INPUT_DIM_1D))\n",
    "val_labels = np.zeros((NUM_OF_VAL, OUTPUT_DIM))\n",
    "for i, idx in enumerate(val_id):\n",
    "    val_datas[i] = datas[idx].reshape(INPUT_DIM_1D)\n",
    "    val_labels[i] = labels[idx][1:]\n",
    "    \n",
    "#reduce data information\n",
    "val_datas = val_datas[:, :10000]\n",
    "# more than n time slots == 1, predict 1\n",
    "val_labels_onehot = np.zeros(NUM_OF_VAL)\n",
    "for i in range(NUM_OF_VAL):\n",
    "    if val_labels[i].sum()>=3:\n",
    "        val_labels_onehot[i] = 1"
   ]
  },
  {
   "cell_type": "code",
   "execution_count": 15,
   "metadata": {},
   "outputs": [
    {
     "name": "stdout",
     "output_type": "stream",
     "text": [
      "              precision    recall  f1-score   support\n",
      "\n",
      "         0.0       0.93      0.92      0.93       735\n",
      "         1.0       0.78      0.82      0.80       265\n",
      "\n",
      "    accuracy                           0.89      1000\n",
      "   macro avg       0.86      0.87      0.86      1000\n",
      "weighted avg       0.89      0.89      0.89      1000\n",
      "\n"
     ]
    }
   ],
   "source": [
    "y_pred = mlp.predict(val_datas)\n",
    "print(classification_report(val_labels_onehot, y_pred)) "
   ]
  },
  {
   "cell_type": "code",
   "execution_count": 23,
   "metadata": {},
   "outputs": [
    {
     "name": "stdout",
     "output_type": "stream",
     "text": [
      "3998 of the 10065 have more than 3 time slots ==1.\n"
     ]
    }
   ],
   "source": [
    "cnt = 0\n",
    "n = 3\n",
    "for i in range(NUM_DATA):\n",
    "    if labels[i].sum()>=n:\n",
    "        cnt+=1\n",
    "print('{} of the {} have more than {} time slots ==1.'.format(cnt, labels.shape[0], n))"
   ]
  },
  {
   "cell_type": "code",
   "execution_count": null,
   "metadata": {},
   "outputs": [],
   "source": []
  }
 ],
 "metadata": {
  "kernelspec": {
   "display_name": "Python 3",
   "language": "python",
   "name": "python3"
  },
  "language_info": {
   "codemirror_mode": {
    "name": "ipython",
    "version": 3
   },
   "file_extension": ".py",
   "mimetype": "text/x-python",
   "name": "python",
   "nbconvert_exporter": "python",
   "pygments_lexer": "ipython3",
   "version": "3.6.5"
  }
 },
 "nbformat": 4,
 "nbformat_minor": 2
}
